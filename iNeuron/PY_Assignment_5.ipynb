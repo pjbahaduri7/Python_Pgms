{
 "cells": [
  {
   "cell_type": "code",
   "execution_count": 12,
   "id": "daec4096",
   "metadata": {},
   "outputs": [
    {
     "name": "stdout",
     "output_type": "stream",
     "text": [
      "It is not divisible!!\n"
     ]
    }
   ],
   "source": [
    "#1 Write a function to compute 5/0 and use try/except to catch the exceptions.\n",
    "def compute(a):\n",
    "    try:\n",
    "        b = 5/a\n",
    "        print(b)\n",
    "    except:\n",
    "        print(\"It is not divisible!!\")\n",
    "compute(0)"
   ]
  },
  {
   "cell_type": "code",
   "execution_count": 18,
   "id": "c0646faf",
   "metadata": {},
   "outputs": [
    {
     "name": "stdout",
     "output_type": "stream",
     "text": [
      "Americans Play Baseball\n",
      "Americans Play cricket\n",
      "Americans watch Baseball\n",
      "Americans watch cricket\n",
      "Indians Play Baseball\n",
      "Indians Play cricket\n",
      "Indians watch Baseball\n",
      "Indians watch cricket\n"
     ]
    }
   ],
   "source": [
    "#2 Implement a Python program to generate all sentences where subject is in [\"Americans\", \"Indians\"] and verb is in \n",
    "# [\"Play\", \"watch\"] and the object is in [\"Baseball\",\"cricket\"].\n",
    "\n",
    "subject = [\"Americans\", \"Indians\"]\n",
    "verb = [\"Play\", \"watch\"]\n",
    "obj = [\"Baseball\",\"cricket\"]\n",
    "lists = [subject, verb, obj]\n",
    "def comb(lists, result = '', n=0):    \n",
    "    if not lists:\n",
    "        pass\n",
    "    if n == len(lists):\n",
    "        print(result[1:])\n",
    "        return\n",
    "    for word in lists[n]:\n",
    "        out = result + \" \" + word\n",
    "        comb(lists, out, n+1)\n",
    "comb(lists)"
   ]
  }
 ],
 "metadata": {
  "kernelspec": {
   "display_name": "Python 3",
   "language": "python",
   "name": "python3"
  },
  "language_info": {
   "codemirror_mode": {
    "name": "ipython",
    "version": 3
   },
   "file_extension": ".py",
   "mimetype": "text/x-python",
   "name": "python",
   "nbconvert_exporter": "python",
   "pygments_lexer": "ipython3",
   "version": "3.8.8"
  }
 },
 "nbformat": 4,
 "nbformat_minor": 5
}

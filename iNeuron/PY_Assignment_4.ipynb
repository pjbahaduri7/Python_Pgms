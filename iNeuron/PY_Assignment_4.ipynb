{
 "cells": [
  {
   "cell_type": "code",
   "execution_count": 26,
   "id": "51b715f3",
   "metadata": {},
   "outputs": [
    {
     "name": "stdout",
     "output_type": "stream",
     "text": [
      "Area of the triangle is:  2.9047375096555625\n"
     ]
    }
   ],
   "source": [
    "# 1.1 Write a Python Program (with class concepts) to find the area of the triangle using the below formula.\n",
    "# area = (s*(s-a)*(s-b)*(s-c)) ** 0.5\n",
    "# Function to take the length of the sides of triangle from user should be defined in the parent class and function to calculate\n",
    "# the area should be defined in subclass.\n",
    "\n",
    "class triangle():\n",
    "    def __init__(self, a, b, c):\n",
    "        self.a = a\n",
    "        self.b = b\n",
    "        self.c = c\n",
    "        self.s = (self.a+self.b+self.c)/2\n",
    "class Area_tri(triangle):\n",
    "    def area(self):\n",
    "        a_tri = (self.s*(self.s-self.a)*(self.s-self.b)*(self.s-self.c)) ** 0.5\n",
    "        print(\"Area of the triangle is: \",a_tri)\n",
    "if __name__ == \"__main__\":\n",
    "    p = Area_tri(2,3,4)\n",
    "    p.area()"
   ]
  },
  {
   "cell_type": "code",
   "execution_count": 37,
   "id": "401d27a5",
   "metadata": {},
   "outputs": [
    {
     "name": "stdout",
     "output_type": "stream",
     "text": [
      "['Beautiful', 'Day']\n"
     ]
    }
   ],
   "source": [
    "# 1.2 Write a function filter_long_words() that takes a list of words and an integer n and returns the list of words that are \n",
    "# longer than n.\n",
    "\n",
    "def filter_long_words(item_list,n):\n",
    "    new_list = []\n",
    "    for i in item_list:\n",
    "        if len(i) > n:\n",
    "            new_list.append(i)\n",
    "    print(new_list)\n",
    "filter_long_words(['It', 'is', 'a', 'Beautiful', 'Day'],2)"
   ]
  },
  {
   "cell_type": "code",
   "execution_count": 75,
   "id": "533f9db2",
   "metadata": {},
   "outputs": [
    {
     "name": "stdout",
     "output_type": "stream",
     "text": [
      "[5, 5]\n"
     ]
    }
   ],
   "source": [
    "# 2.1 Write a Python program using function concept that maps list of words into a list of integers representing the lengths \n",
    "# of the corresponding words.\n",
    "def mapper(item_list):\n",
    "    len_list = []\n",
    "    for i in item_list: \n",
    "        len_list.append(len(str(i)))\n",
    "    print(len_list)\n",
    "        \n",
    "mapper(['hello','world'])"
   ]
  },
  {
   "cell_type": "code",
   "execution_count": 44,
   "id": "ea408a35",
   "metadata": {},
   "outputs": [
    {
     "data": {
      "text/plain": [
       "True"
      ]
     },
     "execution_count": 44,
     "metadata": {},
     "output_type": "execute_result"
    }
   ],
   "source": [
    "# 2.2 Write a Python function which takes a character (i.e. a string of length 1) and returns True if it is a vowel, False \n",
    "# otherwise.\n",
    "\n",
    "def char_vowel(var):\n",
    "    if (var == 'a'or var == 'e' or var == 'i'or var == 'o'or var == 'u' or var == 'A' or var == 'E' or var == 'I' or var == 'O'or var == 'U'):\n",
    "        return True\n",
    "    else: \n",
    "        return False\n",
    "char_vowel('e')"
   ]
  }
 ],
 "metadata": {
  "kernelspec": {
   "display_name": "Python 3",
   "language": "python",
   "name": "python3"
  },
  "language_info": {
   "codemirror_mode": {
    "name": "ipython",
    "version": 3
   },
   "file_extension": ".py",
   "mimetype": "text/x-python",
   "name": "python",
   "nbconvert_exporter": "python",
   "pygments_lexer": "ipython3",
   "version": "3.8.8"
  }
 },
 "nbformat": 4,
 "nbformat_minor": 5
}

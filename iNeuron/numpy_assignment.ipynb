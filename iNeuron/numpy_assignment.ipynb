{
 "cells": [
  {
   "cell_type": "markdown",
   "id": "fda6e3f9",
   "metadata": {},
   "source": [
    "<p>1. Write a function so that the columns of the output matrix are powers of the input\n",
    "vector.\n",
    "    \n",
    "The order of the powers is determined by the increasing boolean argument. Specifically, when\n",
    "increasing is False, the i-th output column is the input vector raised element-wise to the power\n",
    "of N - i - 1.\n",
    "\n",
    "HINT: Such a matrix with a geometric progression in each row is named for Alexandre-Theophile Vandermonde.</p>"
   ]
  },
  {
   "cell_type": "code",
   "execution_count": 15,
   "id": "e1792f0a",
   "metadata": {},
   "outputs": [],
   "source": [
    "import numpy as np"
   ]
  },
  {
   "cell_type": "code",
   "execution_count": 16,
   "id": "343c9089",
   "metadata": {},
   "outputs": [],
   "source": [
    "def gen_mat(ipvector, n, increasing=True):\n",
    "    if increasing:\n",
    "        opmat = np.array([x**i for x in ipvector for i in range(n)]).reshape(ipvector.size,n)\n",
    "    elif not increasing:\n",
    "        opmat = np.array([x**(n-i-1)for x in ipvector for i in range(n)]).reshape(ipvector.size,n)\n",
    "    return opmat"
   ]
  },
  {
   "cell_type": "code",
   "execution_count": 19,
   "id": "7f5f8b5d",
   "metadata": {
    "scrolled": true
   },
   "outputs": [
    {
     "name": "stdout",
     "output_type": "stream",
     "text": [
      "Input Matrix is:\n",
      " [1 2 3 4 5]\n",
      "No of columns in the ouput matrix:\n",
      " 3\n",
      "Generated output matrix in the increasing order of powers:\n",
      " [[ 1  1  1]\n",
      " [ 1  2  4]\n",
      " [ 1  3  9]\n",
      " [ 1  4 16]\n",
      " [ 1  5 25]]\n",
      "Generated output matrix in the decreasing order of powers:\n",
      " [[ 1  1  1]\n",
      " [ 4  2  1]\n",
      " [ 9  3  1]\n",
      " [16  4  1]\n",
      " [25  5  1]]\n"
     ]
    }
   ],
   "source": [
    "input_vec = np.array([1,2,3,4,5])\n",
    "no_col = 3\n",
    "op_mat_inc = gen_mat(input_vec, no_col, True)\n",
    "op_mat_dec = gen_mat(input_vec, no_col, False)\n",
    "\n",
    "print(\"Input Matrix is:\\n\",input_vec)\n",
    "print(\"No of columns in the ouput matrix:\\n\",no_col)\n",
    "print(\"Generated output matrix in the increasing order of powers:\\n\",op_mat_inc)\n",
    "print(\"Generated output matrix in the decreasing order of powers:\\n\",op_mat_dec)"
   ]
  },
  {
   "cell_type": "markdown",
   "id": "87185b24",
   "metadata": {},
   "source": [
    "<h3>PROBLEM STATEMENT</h3>\n",
    "<p>Given a sequence of n values x1, x2, ..., xn and a window size k>0, the k-th moving average of\n",
    "the given sequence is defined as follows:\n",
    "The moving average sequence has n-k+1 elements as shown below.\n",
    "The moving averages with k=4 of a ten-value sequence (n=10) is shown below<br>\n",
    "i 1 2 3 4 5 6 7 8 9 10 <br>\n",
    "===== == == == == == == == == == ==<br>\n",
    "Input 10 20 30 40 50 60 70 80 90 100<br>\n",
    "y1 25 = (10+20+30+40)/4<br>\n",
    "y2 35 = (20+30+40+50)/4<br>\n",
    "y3 45 = (30+40+50+60)/4<br>\n",
    "y4 55 = (40+50+60+70)/4<br>\n",
    "y5 65 = (50+60+70+80)/4<br>\n",
    "y6 75 = (60+70+80+90)/4<br>\n",
    "y7 85 = (70+80+90+100)/4<br>\n",
    "Thus, the moving average sequence has n-k+1=10-4+1=7 values.</p></br>\n",
    "<p>Write a function to find moving average in an array over a window:\n",
    "Test it over [3, 5, 7, 2, 8, 10, 11, 65, 72, 81, 99, 100, 150] and window of 3.</p>"
   ]
  },
  {
   "cell_type": "code",
   "execution_count": 20,
   "id": "ff664977",
   "metadata": {},
   "outputs": [],
   "source": [
    "import numpy as np"
   ]
  },
  {
   "cell_type": "code",
   "execution_count": 40,
   "id": "ec594533",
   "metadata": {},
   "outputs": [
    {
     "name": "stdout",
     "output_type": "stream",
     "text": [
      "The moving average of the sequence  [  3   5   7   2   8  10  11  65  72  81  99 100 150] is:\n",
      "\n",
      "[  5.           4.66666667   5.66666667   6.66666667   9.66666667\n",
      "  28.66666667  49.33333333  72.66666667  84.          93.33333333\n",
      " 116.33333333]\n"
     ]
    }
   ],
   "source": [
    "def mov_avg(arr, win_size):\n",
    "    return np.convolve(arr, np.ones(win_size),'valid')/win_size\n",
    "data = np.array([3, 5, 7, 2, 8, 10, 11, 65, 72, 81, 99, 100, 150])\n",
    "print(\"The moving average of the sequence \",data,\"is:\\n\")\n",
    "print(mov_avg(data,3))"
   ]
  }
 ],
 "metadata": {
  "kernelspec": {
   "display_name": "Python 3",
   "language": "python",
   "name": "python3"
  },
  "language_info": {
   "codemirror_mode": {
    "name": "ipython",
    "version": 3
   },
   "file_extension": ".py",
   "mimetype": "text/x-python",
   "name": "python",
   "nbconvert_exporter": "python",
   "pygments_lexer": "ipython3",
   "version": "3.8.8"
  }
 },
 "nbformat": 4,
 "nbformat_minor": 5
}
